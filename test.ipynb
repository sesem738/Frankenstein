{
 "cells": [
  {
   "cell_type": "code",
   "execution_count": 7,
   "metadata": {},
   "outputs": [],
   "source": [
    "import gym\n",
    "import highway_env\n",
    "from envs.pomdp_wrapper import POMDPWrapper\n",
    "\n",
    "import warnings\n",
    "warnings.simplefilter(\"ignore\")"
   ]
  },
  {
   "cell_type": "code",
   "execution_count": 11,
   "metadata": {},
   "outputs": [],
   "source": [
    "env = POMDPWrapper(\"racetrack-v0\", 'flickering')\n",
    "env.configure({\n",
    "    \"observation\": {\n",
    "        \"type\": \"Kinematics\",\n",
    "        \"vehicles_count\": 15,\n",
    "        \"features\": [\"presence\", \"x\", \"y\", \"vx\", \"vy\", \"cos_h\", \"sin_h\"],\n",
    "        \"features_range\": {\n",
    "            \"x\": [-100, 100],\n",
    "            \"y\": [-100, 100],\n",
    "            \"vx\": [-20, 20],\n",
    "            \"vy\": [-20, 20]\n",
    "        },\n",
    "        \"grid_size\": [[-27.5, 27.5], [-27.5, 27.5]],\n",
    "        \"grid_step\": [5, 5],\n",
    "        \"absolute\": False\n",
    "    }\n",
    "    # ,\n",
    "    # \"action\": {\n",
    "    #     \"type\": \"ContinuousAction\"\n",
    "    # }\n",
    "})\n",
    "\n",
    "env.reset()\n",
    "\n",
    "for _ in range(6):\n",
    "    action = env.action_space.sample()\n",
    "   # action = env.action_type.actions_indexes[\"IDLE\"]\n",
    "    obs, reward, done, info = env.step(action)\n",
    "    # print(obs)\n",
    "    env.render()\n",
    "env.close()\n"
   ]
  },
  {
   "cell_type": "code",
   "execution_count": 14,
   "metadata": {},
   "outputs": [
    {
     "name": "stdout",
     "output_type": "stream",
     "text": [
      "[0.57089156]\n"
     ]
    }
   ],
   "source": [
    "print(action)"
   ]
  },
  {
   "cell_type": "code",
   "execution_count": 13,
   "metadata": {},
   "outputs": [
    {
     "data": {
      "text/plain": [
       "{'dtype': dtype('float32'),\n",
       " 'bounded_below': array([ True]),\n",
       " 'bounded_above': array([ True]),\n",
       " '_shape': (1,),\n",
       " 'low': array([-1.], dtype=float32),\n",
       " 'high': array([1.], dtype=float32),\n",
       " 'low_repr': '-1.0',\n",
       " 'high_repr': '1.0',\n",
       " '_np_random': RandomNumberGenerator(PCG64) at 0x7F15992796D0}"
      ]
     },
     "execution_count": 13,
     "metadata": {},
     "output_type": "execute_result"
    }
   ],
   "source": [
    "vars(env.action_space)"
   ]
  },
  {
   "cell_type": "code",
   "execution_count": null,
   "metadata": {},
   "outputs": [],
   "source": []
  }
 ],
 "metadata": {
  "kernelspec": {
   "display_name": "Python 3.8.13 ('hiway')",
   "language": "python",
   "name": "python3"
  },
  "language_info": {
   "codemirror_mode": {
    "name": "ipython",
    "version": 3
   },
   "file_extension": ".py",
   "mimetype": "text/x-python",
   "name": "python",
   "nbconvert_exporter": "python",
   "pygments_lexer": "ipython3",
   "version": "3.8.13"
  },
  "orig_nbformat": 4,
  "vscode": {
   "interpreter": {
    "hash": "595b72b28205b310129057609978170066b8d9f1cb031045ef1d4543bd6494c3"
   }
  }
 },
 "nbformat": 4,
 "nbformat_minor": 2
}
