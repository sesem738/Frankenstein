{
 "cells": [
  {
   "cell_type": "code",
   "execution_count": 4,
   "metadata": {},
   "outputs": [],
   "source": [
    "import gym\n",
    "import highway_env\n",
    "from envs.pomdp_wrapper import POMDPWrapper\n",
    "\n",
    "import warnings\n",
    "warnings.simplefilter(\"ignore\")"
   ]
  },
  {
   "cell_type": "code",
   "execution_count": 9,
   "metadata": {},
   "outputs": [
    {
     "name": "stdout",
     "output_type": "stream",
     "text": [
      "288\n"
     ]
    }
   ],
   "source": [
    "import numpy as np\n",
    "\n",
    "env = POMDPWrapper(\"racetrack-v0\", 'flickering')\n",
    "env.configure({\n",
    "    \"observation\": {\n",
    "        \"type\": \"Kinematics\",\n",
    "        \"vehicles_count\": 15,\n",
    "        \"features\": [\"presence\", \"x\", \"y\", \"vx\", \"vy\", \"cos_h\", \"sin_h\"],\n",
    "        \"features_range\": {\n",
    "            \"x\": [-100, 100],\n",
    "            \"y\": [-100, 100],\n",
    "            \"vx\": [-20, 20],\n",
    "            \"vy\": [-20, 20]\n",
    "        },\n",
    "        \"grid_size\": [[-27.5, 27.5], [-27.5, 27.5]],\n",
    "        \"grid_step\": [5, 5],\n",
    "        \"absolute\": False\n",
    "    }\n",
    "    # ,\n",
    "    # \"action\": {\n",
    "    #     \"type\": \"ContinuousAction\"\n",
    "    # }\n",
    "})\n",
    "\n",
    "print(np.prod(env.observation_space.shape))"
   ]
  },
  {
   "cell_type": "code",
   "execution_count": null,
   "metadata": {},
   "outputs": [],
   "source": [
    "[false true [false false false false false]\n",
    "[  0     1   [ 2     3     4]\n",
    "\n",
    "\n"
   ]
  },
  {
   "cell_type": "code",
   "execution_count": 11,
   "metadata": {},
   "outputs": [
    {
     "data": {
      "text/plain": [
       "(2, 12, 12)"
      ]
     },
     "execution_count": 11,
     "metadata": {},
     "output_type": "execute_result"
    }
   ],
   "source": [
    "env.observation_space.shape"
   ]
  },
  {
   "cell_type": "code",
   "execution_count": 2,
   "metadata": {},
   "outputs": [],
   "source": [
    "env = POMDPWrapper(\"racetrack-v0\", 'flickering')\n",
    "env.configure({\n",
    "    \"observation\": {\n",
    "        \"type\": \"Kinematics\",\n",
    "        \"vehicles_count\": 15,\n",
    "        \"features\": [\"presence\", \"x\", \"y\", \"vx\", \"vy\", \"cos_h\", \"sin_h\"],\n",
    "        \"features_range\": {\n",
    "            \"x\": [-100, 100],\n",
    "            \"y\": [-100, 100],\n",
    "            \"vx\": [-20, 20],\n",
    "            \"vy\": [-20, 20]\n",
    "        },\n",
    "        \"grid_size\": [[-27.5, 27.5], [-27.5, 27.5]],\n",
    "        \"grid_step\": [5, 5],\n",
    "        \"absolute\": False\n",
    "    }\n",
    "    # ,\n",
    "    # \"action\": {\n",
    "    #     \"type\": \"ContinuousAction\"\n",
    "    # }\n",
    "})\n",
    "\n",
    "env.reset()\n",
    "\n",
    "for _ in range(6):\n",
    "    action = env.action_space.sample()\n",
    "   # action = env.action_type.actions_indexes[\"IDLE\"]\n",
    "    obs, reward, done, info = env.step(action)\n",
    "    # print(obs)\n",
    "    env.render()\n",
    "env.close()\n"
   ]
  },
  {
   "cell_type": "code",
   "execution_count": null,
   "metadata": {},
   "outputs": [],
   "source": []
  },
  {
   "cell_type": "code",
   "execution_count": 3,
   "metadata": {},
   "outputs": [
    {
     "name": "stdout",
     "output_type": "stream",
     "text": [
      "(1,)\n"
     ]
    }
   ],
   "source": [
    "env = POMDPWrapper(\"racetrack-v0\", 'flickering')\n",
    "action = env.action_space.sample()\n",
    "print(action.shape)"
   ]
  },
  {
   "cell_type": "code",
   "execution_count": 20,
   "metadata": {},
   "outputs": [
    {
     "data": {
      "text/plain": [
       "{'dtype': dtype('float32'),\n",
       " 'bounded_below': array([ True]),\n",
       " 'bounded_above': array([ True]),\n",
       " '_shape': (1,),\n",
       " 'low': array([-1.], dtype=float32),\n",
       " 'high': array([1.], dtype=float32),\n",
       " 'low_repr': '-1.0',\n",
       " 'high_repr': '1.0',\n",
       " '_np_random': None}"
      ]
     },
     "execution_count": 20,
     "metadata": {},
     "output_type": "execute_result"
    }
   ],
   "source": [
    "vars(env.action_space)"
   ]
  },
  {
   "cell_type": "code",
   "execution_count": 1,
   "metadata": {},
   "outputs": [
    {
     "name": "stdout",
     "output_type": "stream",
     "text": [
      "[  79  391 1695  532  299  244  682 1426 1307 1325  173 1742]\n"
     ]
    }
   ],
   "source": [
    "import numpy as np\n",
    "ind = np.random.randint(5, 2000, size=12)\n",
    "print(ind)"
   ]
  },
  {
   "cell_type": "code",
   "execution_count": 15,
   "metadata": {},
   "outputs": [
    {
     "name": "stdout",
     "output_type": "stream",
     "text": [
      "100\n",
      "tensor([[[37.],\n",
      "         [38.],\n",
      "         [39.],\n",
      "         [40.],\n",
      "         [41.]],\n",
      "\n",
      "        [[89.],\n",
      "         [90.],\n",
      "         [91.],\n",
      "         [92.],\n",
      "         [93.]],\n",
      "\n",
      "        [[73.],\n",
      "         [74.],\n",
      "         [75.],\n",
      "         [76.],\n",
      "         [77.]],\n",
      "\n",
      "        [[16.],\n",
      "         [17.],\n",
      "         [18.],\n",
      "         [19.],\n",
      "         [20.]],\n",
      "\n",
      "        [[65.],\n",
      "         [66.],\n",
      "         [67.],\n",
      "         [68.],\n",
      "         [69.]],\n",
      "\n",
      "        [[31.],\n",
      "         [32.],\n",
      "         [33.],\n",
      "         [34.],\n",
      "         [35.]],\n",
      "\n",
      "        [[13.],\n",
      "         [14.],\n",
      "         [15.],\n",
      "         [16.],\n",
      "         [17.]],\n",
      "\n",
      "        [[28.],\n",
      "         [29.],\n",
      "         [30.],\n",
      "         [31.],\n",
      "         [32.]],\n",
      "\n",
      "        [[10.],\n",
      "         [11.],\n",
      "         [12.],\n",
      "         [13.],\n",
      "         [14.]],\n",
      "\n",
      "        [[23.],\n",
      "         [24.],\n",
      "         [25.],\n",
      "         [26.],\n",
      "         [27.]]], device='cuda:0')\n"
     ]
    }
   ],
   "source": [
    "from replay import ReplayBuffer\n",
    "\n",
    "\n",
    "buffer = ReplayBuffer(1, 1, 100)\n",
    "\n",
    "for i in range(101):\n",
    "    mul = np.ones(1)*i\n",
    "    mul2 = mul + 1\n",
    "    rand = np.random.random(1)\n",
    "    buffer.push(mul, mul, mul2, rand, mul)\n",
    "\n",
    "print(buffer.size)\n",
    "\n",
    "# Not tested for dones\n",
    "\n",
    "okay = buffer.prior_samples(10, 5)\n",
    "\n",
    "print(okay[1])"
   ]
  }
 ],
 "metadata": {
  "kernelspec": {
   "display_name": "Python 3.8.13 ('asem')",
   "language": "python",
   "name": "python3"
  },
  "language_info": {
   "codemirror_mode": {
    "name": "ipython",
    "version": 3
   },
   "file_extension": ".py",
   "mimetype": "text/x-python",
   "name": "python",
   "nbconvert_exporter": "python",
   "pygments_lexer": "ipython3",
   "version": "3.8.13"
  },
  "orig_nbformat": 4,
  "vscode": {
   "interpreter": {
    "hash": "db40729c85a72cbc73b7f753d4bafa3de34ccaf087ce95c8b216abfb15164606"
   }
  }
 },
 "nbformat": 4,
 "nbformat_minor": 2
}
