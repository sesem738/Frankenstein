{
 "cells": [
  {
   "cell_type": "code",
   "execution_count": 2,
   "metadata": {},
   "outputs": [],
   "source": [
    "import gym\n",
    "import highway_env\n",
    "from envs.pomdp_wrapper import POMDPWrapper\n",
    "\n",
    "import warnings\n",
    "warnings.simplefilter(\"ignore\")"
   ]
  },
  {
   "cell_type": "code",
   "execution_count": 9,
   "metadata": {},
   "outputs": [
    {
     "name": "stdout",
     "output_type": "stream",
     "text": [
      "288\n"
     ]
    }
   ],
   "source": [
    "import numpy as np\n",
    "\n",
    "env = POMDPWrapper(\"racetrack-v0\", 'flickering')\n",
    "env.configure({\n",
    "    \"observation\": {\n",
    "        \"type\": \"Kinematics\",\n",
    "        \"vehicles_count\": 15,\n",
    "        \"features\": [\"presence\", \"x\", \"y\", \"vx\", \"vy\", \"cos_h\", \"sin_h\"],\n",
    "        \"features_range\": {\n",
    "            \"x\": [-100, 100],\n",
    "            \"y\": [-100, 100],\n",
    "            \"vx\": [-20, 20],\n",
    "            \"vy\": [-20, 20]\n",
    "        },\n",
    "        \"grid_size\": [[-27.5, 27.5], [-27.5, 27.5]],\n",
    "        \"grid_step\": [5, 5],\n",
    "        \"absolute\": False\n",
    "    }\n",
    "    # ,\n",
    "    # \"action\": {\n",
    "    #     \"type\": \"ContinuousAction\"\n",
    "    # }\n",
    "})\n",
    "\n",
    "print(np.prod(env.observation_space.shape))"
   ]
  },
  {
   "cell_type": "code",
   "execution_count": null,
   "metadata": {},
   "outputs": [],
   "source": [
    "[false true [false false false false false]\n",
    "[  0     1   [ 2     3     4]\n",
    "\n",
    "\n"
   ]
  },
  {
   "cell_type": "code",
   "execution_count": 1,
   "metadata": {},
   "outputs": [
    {
     "ename": "NameError",
     "evalue": "name 'env' is not defined",
     "output_type": "error",
     "traceback": [
      "\u001b[0;31m---------------------------------------------------------------------------\u001b[0m",
      "\u001b[0;31mNameError\u001b[0m                                 Traceback (most recent call last)",
      "\u001b[1;32m/home/gaobotics/WorldWideWeb/Frankenstein/test.ipynb Cell 4\u001b[0m in \u001b[0;36m<cell line: 1>\u001b[0;34m()\u001b[0m\n\u001b[0;32m----> <a href='vscode-notebook-cell:/home/gaobotics/WorldWideWeb/Frankenstein/test.ipynb#ch0000003?line=0'>1</a>\u001b[0m env\u001b[39m.\u001b[39mobservation_space\u001b[39m.\u001b[39mshape\n",
      "\u001b[0;31mNameError\u001b[0m: name 'env' is not defined"
     ]
    }
   ],
   "source": [
    "env.observation_space.shape"
   ]
  },
  {
   "cell_type": "code",
   "execution_count": 2,
   "metadata": {},
   "outputs": [],
   "source": [
    "env = POMDPWrapper(\"racetrack-v0\", 'flickering')\n",
    "env.configure({\n",
    "    \"observation\": {\n",
    "        \"type\": \"Kinematics\",\n",
    "        \"vehicles_count\": 15,\n",
    "        \"features\": [\"presence\", \"x\", \"y\", \"vx\", \"vy\", \"cos_h\", \"sin_h\"],\n",
    "        \"features_range\": {\n",
    "            \"x\": [-100, 100],\n",
    "            \"y\": [-100, 100],\n",
    "            \"vx\": [-20, 20],\n",
    "            \"vy\": [-20, 20]\n",
    "        },\n",
    "        \"grid_size\": [[-27.5, 27.5], [-27.5, 27.5]],\n",
    "        \"grid_step\": [5, 5],\n",
    "        \"absolute\": False\n",
    "    }\n",
    "    # ,\n",
    "    # \"action\": {\n",
    "    #     \"type\": \"ContinuousAction\"\n",
    "    # }\n",
    "})\n",
    "\n",
    "env.reset()\n",
    "\n",
    "for _ in range(6):\n",
    "    action = env.action_space.sample()\n",
    "   # action = env.action_type.actions_indexes[\"IDLE\"]\n",
    "    obs, reward, done, info = env.step(action)\n",
    "    # print(obs)\n",
    "    env.render()\n",
    "env.close()\n"
   ]
  },
  {
   "cell_type": "code",
   "execution_count": null,
   "metadata": {},
   "outputs": [],
   "source": []
  },
  {
   "cell_type": "code",
   "execution_count": 3,
   "metadata": {},
   "outputs": [
    {
     "name": "stdout",
     "output_type": "stream",
     "text": [
      "(1,)\n"
     ]
    }
   ],
   "source": [
    "env = POMDPWrapper(\"racetrack-v0\", 'flickering')\n",
    "action = env.action_space.sample()\n",
    "print(action.shape)"
   ]
  },
  {
   "cell_type": "code",
   "execution_count": 3,
   "metadata": {},
   "outputs": [
    {
     "ename": "NameError",
     "evalue": "name 'env' is not defined",
     "output_type": "error",
     "traceback": [
      "\u001b[0;31m---------------------------------------------------------------------------\u001b[0m",
      "\u001b[0;31mNameError\u001b[0m                                 Traceback (most recent call last)",
      "\u001b[1;32m/home/gaobotics/WorldWideWeb/Frankenstein/test.ipynb Cell 8\u001b[0m in \u001b[0;36m<cell line: 1>\u001b[0;34m()\u001b[0m\n\u001b[0;32m----> <a href='vscode-notebook-cell:/home/gaobotics/WorldWideWeb/Frankenstein/test.ipynb#ch0000007?line=0'>1</a>\u001b[0m \u001b[39mvars\u001b[39m(env\u001b[39m.\u001b[39maction_space)\n",
      "\u001b[0;31mNameError\u001b[0m: name 'env' is not defined"
     ]
    }
   ],
   "source": [
    "vars(env.action_space)"
   ]
  },
  {
   "cell_type": "code",
   "execution_count": 1,
   "metadata": {},
   "outputs": [
    {
     "name": "stdout",
     "output_type": "stream",
     "text": [
      "[  79  391 1695  532  299  244  682 1426 1307 1325  173 1742]\n"
     ]
    }
   ],
   "source": [
    "import numpy as np\n",
    "ind = np.random.randint(5, 2000, size=12)\n",
    "print(ind)"
   ]
  },
  {
   "cell_type": "code",
   "execution_count": 5,
   "metadata": {},
   "outputs": [
    {
     "name": "stdout",
     "output_type": "stream",
     "text": [
      "100\n",
      "[[[51.]\n",
      "  [52.]\n",
      "  [53.]\n",
      "  [54.]\n",
      "  [55.]]\n",
      "\n",
      " [[ 4.]\n",
      "  [ 5.]\n",
      "  [ 6.]\n",
      "  [ 7.]\n",
      "  [ 8.]]\n",
      "\n",
      " [[29.]\n",
      "  [30.]\n",
      "  [31.]\n",
      "  [32.]\n",
      "  [33.]]\n",
      "\n",
      " [[77.]\n",
      "  [78.]\n",
      "  [79.]\n",
      "  [80.]\n",
      "  [81.]]\n",
      "\n",
      " [[23.]\n",
      "  [24.]\n",
      "  [25.]\n",
      "  [26.]\n",
      "  [27.]]\n",
      "\n",
      " [[17.]\n",
      "  [18.]\n",
      "  [19.]\n",
      "  [20.]\n",
      "  [21.]]\n",
      "\n",
      " [[48.]\n",
      "  [49.]\n",
      "  [50.]\n",
      "  [51.]\n",
      "  [52.]]\n",
      "\n",
      " [[86.]\n",
      "  [87.]\n",
      "  [88.]\n",
      "  [89.]\n",
      "  [90.]]\n",
      "\n",
      " [[86.]\n",
      "  [87.]\n",
      "  [88.]\n",
      "  [89.]\n",
      "  [90.]]\n",
      "\n",
      " [[29.]\n",
      "  [30.]\n",
      "  [31.]\n",
      "  [32.]\n",
      "  [33.]]]\n"
     ]
    }
   ],
   "source": [
    "import numpy as np\n",
    "from replay import ReplayBuffer\n",
    "\n",
    "\n",
    "buffer = ReplayBuffer(1, 1, 100)\n",
    "\n",
    "for i in range(101):\n",
    "    mul = np.ones(1)*i\n",
    "    mul2 = mul + 1\n",
    "    rand = np.random.random(1)\n",
    "    buffer.push(mul, mul, mul2, rand, mul)\n",
    "\n",
    "print(buffer.size)\n",
    "\n",
    "# Not tested for dones\n",
    "\n",
    "okay = buffer.prior_samples(10, 5)\n",
    "\n",
    "print(okay[1])"
   ]
  },
  {
   "cell_type": "code",
   "execution_count": 7,
   "metadata": {},
   "outputs": [],
   "source": [
    "import numpy as np\n",
    "\n",
    "def test(id, his_len, done):\n",
    "    start_id = id-his_len\n",
    "        \n",
    "    not_valid = True\n",
    "    while not_valid:\n",
    "\n",
    "        print(f'At while {start_id}, {id}')\n",
    "\n",
    "        # Check sequence for termination\n",
    "        print(done[start_id:id] == 1.0)\n",
    "        if len(np.where(done[start_id:id] == 1)[0]) != 0:\n",
    "            print(f'Invalid hist sequence with id {id}, and done {(done[start_id:id] == 1)}')\n",
    "            temp = start_id + (np.where(done[start_id:id] == 1)[0][-1]) + 1\n",
    "            if (temp + his_len) >= len(done):\n",
    "                print(f'length of done {len(done)}; {temp + his_len}')\n",
    "                start_id = np.random.randint(0, len(x)-his_len,1)[0]\n",
    "            else:\n",
    "                start_id = temp\n",
    "            id = start_id + his_len\n",
    "        \n",
    "        if (len(np.where(done[start_id:id] == 1)[0]) == 0):\n",
    "            not_valid = False\n",
    "    \n",
    "    return start_id, id\n",
    "\n",
    "x = np.array([0,0,0,0,1,0,0,0,0,0,0,0,0,0,1,0,0,1,0])\n",
    "his_len = 5\n",
    "id = np.random.randint(his_len, len(x),1)[0]\n",
    "print(f'True at {np.where(x==1)}, random id {id}')\n",
    "start_id, id = test(id, his_len, x)\n",
    "\n",
    "print(f'start at {start_id}, id {id}')\n",
    "print(x[start_id:id])"
   ]
  }
 ],
 "metadata": {
  "kernelspec": {
   "display_name": "Python 3.8.13 ('prime')",
   "language": "python",
   "name": "python3"
  },
  "language_info": {
   "codemirror_mode": {
    "name": "ipython",
    "version": 3
   },
   "file_extension": ".py",
   "mimetype": "text/x-python",
   "name": "python",
   "nbconvert_exporter": "python",
   "pygments_lexer": "ipython3",
   "version": "3.8.13"
  },
  "orig_nbformat": 4,
  "vscode": {
   "interpreter": {
    "hash": "bd669b055ba7f2f074364a31a689e546f7f9adc0cb0f9ee7da7f63db5e1679e9"
   }
  }
 },
 "nbformat": 4,
 "nbformat_minor": 2
}
